{
  "nbformat": 4,
  "nbformat_minor": 0,
  "metadata": {
    "colab": {
      "provenance": [],
      "authorship_tag": "ABX9TyOYQwkYoNJxGDp3v6g9XEny",
      "include_colab_link": true
    },
    "kernelspec": {
      "name": "python3",
      "display_name": "Python 3"
    },
    "language_info": {
      "name": "python"
    }
  },
  "cells": [
    {
      "cell_type": "markdown",
      "metadata": {
        "id": "view-in-github",
        "colab_type": "text"
      },
      "source": [
        "<a href=\"https://colab.research.google.com/github/Banavath-Vishnu/Bubble-Game/blob/main/AI_PPT_GENERATOR.ipynb\" target=\"_parent\"><img src=\"https://colab.research.google.com/assets/colab-badge.svg\" alt=\"Open In Colab\"/></a>"
      ]
    },
    {
      "cell_type": "code",
      "execution_count": null,
      "metadata": {
        "colab": {
          "base_uri": "https://localhost:8080/"
        },
        "id": "eKskl1Uh8olX",
        "outputId": "e70074cc-e031-4001-ef9d-049ba994dd46"
      },
      "outputs": [
        {
          "output_type": "stream",
          "name": "stdout",
          "text": [
            "Requirement already satisfied: google-generativeai in /usr/local/lib/python3.11/dist-packages (0.8.5)\n",
            "Requirement already satisfied: python-pptx in /usr/local/lib/python3.11/dist-packages (1.0.2)\n",
            "Requirement already satisfied: pillow in /usr/local/lib/python3.11/dist-packages (11.3.0)\n",
            "Requirement already satisfied: requests in /usr/local/lib/python3.11/dist-packages (2.32.3)\n",
            "Requirement already satisfied: python-dotenv in /usr/local/lib/python3.11/dist-packages (1.1.1)\n",
            "Requirement already satisfied: google-ai-generativelanguage==0.6.15 in /usr/local/lib/python3.11/dist-packages (from google-generativeai) (0.6.15)\n",
            "Requirement already satisfied: google-api-core in /usr/local/lib/python3.11/dist-packages (from google-generativeai) (2.25.1)\n",
            "Requirement already satisfied: google-api-python-client in /usr/local/lib/python3.11/dist-packages (from google-generativeai) (2.177.0)\n",
            "Requirement already satisfied: google-auth>=2.15.0 in /usr/local/lib/python3.11/dist-packages (from google-generativeai) (2.38.0)\n",
            "Requirement already satisfied: protobuf in /usr/local/lib/python3.11/dist-packages (from google-generativeai) (5.29.5)\n",
            "Requirement already satisfied: pydantic in /usr/local/lib/python3.11/dist-packages (from google-generativeai) (2.11.7)\n",
            "Requirement already satisfied: tqdm in /usr/local/lib/python3.11/dist-packages (from google-generativeai) (4.67.1)\n",
            "Requirement already satisfied: typing-extensions in /usr/local/lib/python3.11/dist-packages (from google-generativeai) (4.14.1)\n",
            "Requirement already satisfied: proto-plus<2.0.0dev,>=1.22.3 in /usr/local/lib/python3.11/dist-packages (from google-ai-generativelanguage==0.6.15->google-generativeai) (1.26.1)\n",
            "Requirement already satisfied: XlsxWriter>=0.5.7 in /usr/local/lib/python3.11/dist-packages (from python-pptx) (3.2.5)\n",
            "Requirement already satisfied: lxml>=3.1.0 in /usr/local/lib/python3.11/dist-packages (from python-pptx) (5.4.0)\n",
            "Requirement already satisfied: charset-normalizer<4,>=2 in /usr/local/lib/python3.11/dist-packages (from requests) (3.4.2)\n",
            "Requirement already satisfied: idna<4,>=2.5 in /usr/local/lib/python3.11/dist-packages (from requests) (3.10)\n",
            "Requirement already satisfied: urllib3<3,>=1.21.1 in /usr/local/lib/python3.11/dist-packages (from requests) (2.5.0)\n",
            "Requirement already satisfied: certifi>=2017.4.17 in /usr/local/lib/python3.11/dist-packages (from requests) (2025.8.3)\n",
            "Requirement already satisfied: googleapis-common-protos<2.0.0,>=1.56.2 in /usr/local/lib/python3.11/dist-packages (from google-api-core->google-generativeai) (1.70.0)\n",
            "Requirement already satisfied: cachetools<6.0,>=2.0.0 in /usr/local/lib/python3.11/dist-packages (from google-auth>=2.15.0->google-generativeai) (5.5.2)\n",
            "Requirement already satisfied: pyasn1-modules>=0.2.1 in /usr/local/lib/python3.11/dist-packages (from google-auth>=2.15.0->google-generativeai) (0.4.2)\n",
            "Requirement already satisfied: rsa<5,>=3.1.4 in /usr/local/lib/python3.11/dist-packages (from google-auth>=2.15.0->google-generativeai) (4.9.1)\n",
            "Requirement already satisfied: httplib2<1.0.0,>=0.19.0 in /usr/local/lib/python3.11/dist-packages (from google-api-python-client->google-generativeai) (0.22.0)\n",
            "Requirement already satisfied: google-auth-httplib2<1.0.0,>=0.2.0 in /usr/local/lib/python3.11/dist-packages (from google-api-python-client->google-generativeai) (0.2.0)\n",
            "Requirement already satisfied: uritemplate<5,>=3.0.1 in /usr/local/lib/python3.11/dist-packages (from google-api-python-client->google-generativeai) (4.2.0)\n",
            "Requirement already satisfied: annotated-types>=0.6.0 in /usr/local/lib/python3.11/dist-packages (from pydantic->google-generativeai) (0.7.0)\n",
            "Requirement already satisfied: pydantic-core==2.33.2 in /usr/local/lib/python3.11/dist-packages (from pydantic->google-generativeai) (2.33.2)\n",
            "Requirement already satisfied: typing-inspection>=0.4.0 in /usr/local/lib/python3.11/dist-packages (from pydantic->google-generativeai) (0.4.1)\n",
            "Requirement already satisfied: grpcio<2.0.0,>=1.33.2 in /usr/local/lib/python3.11/dist-packages (from google-api-core[grpc]!=2.0.*,!=2.1.*,!=2.10.*,!=2.2.*,!=2.3.*,!=2.4.*,!=2.5.*,!=2.6.*,!=2.7.*,!=2.8.*,!=2.9.*,<3.0.0dev,>=1.34.1->google-ai-generativelanguage==0.6.15->google-generativeai) (1.74.0)\n",
            "Requirement already satisfied: grpcio-status<2.0.0,>=1.33.2 in /usr/local/lib/python3.11/dist-packages (from google-api-core[grpc]!=2.0.*,!=2.1.*,!=2.10.*,!=2.2.*,!=2.3.*,!=2.4.*,!=2.5.*,!=2.6.*,!=2.7.*,!=2.8.*,!=2.9.*,<3.0.0dev,>=1.34.1->google-ai-generativelanguage==0.6.15->google-generativeai) (1.71.2)\n",
            "Requirement already satisfied: pyparsing!=3.0.0,!=3.0.1,!=3.0.2,!=3.0.3,<4,>=2.4.2 in /usr/local/lib/python3.11/dist-packages (from httplib2<1.0.0,>=0.19.0->google-api-python-client->google-generativeai) (3.2.3)\n",
            "Requirement already satisfied: pyasn1<0.7.0,>=0.6.1 in /usr/local/lib/python3.11/dist-packages (from pyasn1-modules>=0.2.1->google-auth>=2.15.0->google-generativeai) (0.6.1)\n"
          ]
        }
      ],
      "source": [
        "!pip install  google-generativeai python-pptx pillow requests python-dotenv"
      ]
    },
    {
      "cell_type": "code",
      "source": [
        "import os\n",
        "import google.generativeai as genai\n",
        "from dotenv import load_dotenv\n",
        "from pptx import Presentation\n",
        "from pptx.util import Inches, Pt\n",
        "from pptx.enum.text import PP_ALIGN\n",
        "from pptx.dml.color import RGBColor\n",
        "import requests\n",
        "from PIL import Image\n",
        "import io\n",
        "import json\n",
        "from google.colab import userdata\n",
        "userdata.get('PEXELS_API_KEY')\n",
        "\n",
        "load_dotenv()\n"
      ],
      "metadata": {
        "colab": {
          "base_uri": "https://localhost:8080/"
        },
        "id": "pe6hF2_R98XM",
        "outputId": "35fb489e-0fe8-4b2d-97b4-3c5af6384ef7"
      },
      "execution_count": null,
      "outputs": [
        {
          "output_type": "execute_result",
          "data": {
            "text/plain": [
              "False"
            ]
          },
          "metadata": {},
          "execution_count": 88
        }
      ]
    },
    {
      "cell_type": "code",
      "source": [
        "class PPT_Generator:\n",
        "  def __init__(self, api_key=None):\n",
        "    self.api_key = api_key\n",
        "    if not self.api_key:\n",
        "      raise ValueError('Error Gemini key')\n",
        "\n",
        "    genai.configure(api_key=self.api_key)\n",
        "    self.model = genai.GenerativeModel('gemini-2.5-pro')\n",
        "    self.model_vision = genai.GenerativeModel('gemini-2.5-pro')\n",
        "\n",
        "    self.presentation = Presentation()\n",
        "\n",
        "  def generate_content_outline(self, topic, num_slides=5):\n",
        "    prompt=f\"\"\"\n",
        "    create a detailed outline for a PowerPoint Presentation on \"{topic}\" with {num_slides} sides.\n",
        "    Return the response as a JSON array with the following structure:\n",
        "    [\n",
        "      {{\n",
        "        \"title\": \"Slide Title\",\n",
        "        \"content\": \"Main Content points as bullet points\",\n",
        "        \"slide_type\":\"title\\content\\image\\conclusion\"\n",
        "      }}\n",
        "    ]\n",
        "\n",
        "    Make sure the content is engaging, informative and well structured.\n",
        "    The response must be a valid JSON array.\n",
        "     \"\"\"\n",
        "    try:\n",
        "     response = self.model.generate_content(prompt)\n",
        "     content = response.text.strip()\n",
        "\n",
        "     if \"```json\" in content:\n",
        "        content = content.split(\"```json\")[1].split(\"```\")[0].strip()\n",
        "     elif \"```\" in content:\n",
        "        content = content.split(\"```\")[1].strip()\n",
        "\n",
        "     try:\n",
        "      return json.loads(content)\n",
        "     except json.JSONDecodeError as e:\n",
        "      print(f\"Error decoding JSON: {e}\")\n",
        "      return None\n",
        "\n",
        "    except Exception as e:\n",
        "      print(f\"Error generating content: {e}\")\n",
        "      return None\n",
        "\n",
        "\n",
        "  def generate_image_description(self, slide_content):\n",
        "     # Ensure the input is a string before processing\n",
        "     slide_content_str = str(slide_content)\n",
        "     prompt = f\"\"\"\n",
        "    Based on this slide content, suggest a relevant image description that would enhance the presentations.\n",
        "    {slide_content_str}\n",
        "    return only a brief, descriptive phrase suitable for image search (max 5 words)\n",
        "    dont return a list object as data\n",
        "    \"\"\"\n",
        "\n",
        "     try:\n",
        "       response = self.model.generate_content(prompt)\n",
        "       # Explicitly convert response.text to string before stripping\n",
        "       content = str(response.text).strip()\n",
        "       return content\n",
        "     except Exception as e:\n",
        "       print(f\"Error generating image description: {e}\")\n",
        "       return 'professional presentation'\n",
        "\n",
        "  def download_image(self, query, save_path = \"temp_image.jpg\"):\n",
        "    try:\n",
        "      url = \"https://api.pexels.com/v1/search\"\n",
        "      # Hardcode the Pexels API key as requested\n",
        "      headers = {\n",
        "          \"Authorization\": \"<>API KEY<>\"\n",
        "      }\n",
        "      params = {\n",
        "          \"query\": query,\n",
        "          \"per_page\": 1,\n",
        "          \"orientation\": \"landscape\"\n",
        "      }\n",
        "\n",
        "      response = requests.get(url, headers=headers, params=params)\n",
        "      response.raise_for_status()\n",
        "\n",
        "      data = response.json()\n",
        "      if not data.get('photos'):\n",
        "        raise ValueError(\"No photos found\")\n",
        "\n",
        "      image_url = data['photos'][0]['src']['original']\n",
        "      image_response = requests.get(image_url)\n",
        "      image_response.raise_for_status()\n",
        "\n",
        "      with open(save_path, 'wb') as f:\n",
        "        f.write(image_response.content)\n",
        "\n",
        "      return save_path\n",
        "    except Exception as e:\n",
        "      print(f\"Error downloading image: {e}\")\n",
        "      return None\n",
        "\n",
        "  def create_title_slide(self, title, subtitle=\"\"):\n",
        "    slide_layout = self.presentation.slide_layouts[0]\n",
        "    slide = self.presentation.slides.add_slide(slide_layout)\n",
        "\n",
        "    title_shape = slide.shapes.title\n",
        "    title_shape.text = title\n",
        "    title_shape.text_frame.paragraphs[0].font.size = Pt(30)\n",
        "    title_shape.text_frame.paragraphs[0].font.bold = True\n",
        "    title_shape.text_frame.paragraphs[0].font.color.rgb = RGBColor(0, 0, 0)\n",
        "    title_shape.text_frame.paragraphs[0].alignment = PP_ALIGN.CENTER\n",
        "\n",
        "    if subtitle:\n",
        "      subtitle_shape = slide.placeholders[1]\n",
        "      subtitle_shape.text = subtitle\n",
        "      subtitle_shape.text_frame.paragraphs[0].font.size = Pt(20)\n",
        "      subtitle_shape.text_frame.paragraphs[0].font.color.rgb = RGBColor(0, 0, 0)\n",
        "      subtitle_shape.text_frame.paragraphs[0].alignment = PP_ALIGN.CENTER\n",
        "\n",
        "  def create_content_slide(self, title, content, include_image):\n",
        "    slide_layout = self.presentation.slide_layouts[1]\n",
        "    slide = self.presentation.slides.add_slide(slide_layout)\n",
        "\n",
        "    title_shape = slide.shapes.title\n",
        "    title_shape.text = title\n",
        "    title_shape.text_frame.paragraphs[0].font.size = Pt(20)\n",
        "    title_shape.text_frame.paragraphs[0].font.bold = True\n",
        "\n",
        "    # Ensure content is a string before setting it\n",
        "    if isinstance(content, list):\n",
        "        content_str = \"\\n\".join(content) # Join list items with newline\n",
        "    else:\n",
        "        content_str = str(content) # Convert other types to string\n",
        "\n",
        "    content_shape = slide.shapes.placeholders[1]\n",
        "    content_shape.text = content_str\n",
        "\n",
        "    text_frame = content_shape.text_frame\n",
        "    for paragraph in text_frame.paragraphs:\n",
        "      paragraph.font.size = Pt(14)\n",
        "      paragraph.font.color.rgb = RGBColor(0, 0, 0)\n",
        "\n",
        "    if include_image:\n",
        "     try:\n",
        "      image_desc = self.generate_image_description(content_str) # Pass the string version\n",
        "      image_path = self.download_image(image_desc)\n",
        "      if image_path and os.path.exists(image_path):\n",
        "        slide.shapes.add_picture(image_path, Inches(6), Inches(2), height=Inches(4))\n",
        "        os.remove(image_path)\n",
        "     except Exception as e:\n",
        "      print(f\"Error adding image to slide: {e}\")\n",
        "\n",
        "    return slide\n",
        "\n",
        "  def create_image_slide(self, title, image_query, content=\"\"):\n",
        "    slide_layout = self.presentation.slide_layouts[8]\n",
        "    slide = self.presentation.slides.add_slide(slide_layout)\n",
        "\n",
        "    title_box = slide.shapes.add_textbox(Inches(1), Inches(1), Inches(8), Inches(1))\n",
        "    title_frame = title_box.text_frame\n",
        "    title_frame.text = title\n",
        "    title_frame.paragraphs[0].font.size = Pt(20)\n",
        "    title_frame.paragraphs[0].font.bold = True\n",
        "    title_frame.paragraphs[0].font.color.rgb = RGBColor(0, 0, 0)\n",
        "    title_frame.paragraphs[0].alignment = PP_ALIGN.CENTER\n",
        "\n",
        "    content_box = slide.shapes.add_textbox(Inches(0.5), Inches(2), Inches(4), Inches(5))\n",
        "    content_frame = content_box.text_frame\n",
        "    # Ensure content set here is a string\n",
        "    content_frame.text = str(content) # Initialize with empty text, content will be added if available in outline\n",
        "\n",
        "    for paragraph in content_frame.paragraphs:\n",
        "      paragraph.font.size = Pt(20)\n",
        "      paragraph.font.color.rgb = RGBColor(0, 0, 0)\n",
        "\n",
        "    try:\n",
        "      image_path = self.download_image(image_query)\n",
        "      if image_path and os.path.exists(image_path):\n",
        "        slide.shapes.add_picture(image_path, Inches(6), Inches(2), height=Inches(4))\n",
        "        os.remove(image_path)\n",
        "    except Exception as e:\n",
        "      print(f\"Error adding image to slide: {e}\")\n",
        "\n",
        "    return slide\n",
        "\n",
        "\n",
        "  def generate_presentation(self, topic, num_slides=5, output_file = \"output.pptx\"):\n",
        "    content_outline = self.generate_content_outline(topic, num_slides)\n",
        "\n",
        "    if not content_outline:\n",
        "        print(\"Error: Could not generate content outline.\")\n",
        "        return None\n",
        "\n",
        "    for i, slide_data in enumerate(content_outline):\n",
        "      title = slide_data.get(\"title\", f\"Slide {i+1}\")\n",
        "      # Ensure content is always a string before any processing\n",
        "      content = str(slide_data.get(\"content\", \"\"))\n",
        "      slide_type = slide_data.get(\"slide_type\", \"content\")\n",
        "\n",
        "      print(f\"Creating slide {i+1}: {title}\")\n",
        "\n",
        "      if slide_type == \"title\":\n",
        "        self.create_title_slide(title, \"Created BY BANAVATH VISHNU\")\n",
        "      elif slide_type == \"image\":\n",
        "        # Pass the string content to generate_image_description\n",
        "        img_query = self.generate_image_description(content) if content else title\n",
        "        # Pass string content to image slide\n",
        "        self.create_image_slide(title, img_query, content=content)\n",
        "      elif slide_type == \"conclusion\":\n",
        "        # Assuming conclusion slide might have string content as subtitle\n",
        "        self.create_title_slide(title, subtitle=content)\n",
        "      else: # Default to content slide\n",
        "        # Pass the string content to create_content_slide\n",
        "        self.create_content_slide(title, content, include_image=True)\n",
        "\n",
        "    self.presentation.save(output_file)\n",
        "    print(f\"Presentation saved to {output_file}\")\n",
        "\n",
        "    return output_file\n",
        "\n",
        "print('Done')"
      ],
      "metadata": {
        "colab": {
          "base_uri": "https://localhost:8080/"
        },
        "id": "8cnwh836_A5K",
        "outputId": "c600a399-56ff-46f1-c4c7-c5b433706fc2"
      },
      "execution_count": null,
      "outputs": [
        {
          "output_type": "stream",
          "name": "stdout",
          "text": [
            "Done\n"
          ]
        }
      ]
    },
    {
      "cell_type": "code",
      "source": [
        "api_key = \"<>YOUR API KEY<>\""
      ],
      "metadata": {
        "id": "2KCxaP2qPgNW"
      },
      "execution_count": null,
      "outputs": []
    },
    {
      "cell_type": "code",
      "source": [
        "try:\n",
        "  generator = PPT_Generator(api_key=api_key)\n",
        "except Exception as e:\n",
        "  print(f\"Error creating PPT_Generator: {e}\")"
      ],
      "metadata": {
        "id": "LGXd48TvPjdD"
      },
      "execution_count": null,
      "outputs": []
    },
    {
      "cell_type": "code",
      "source": [
        "topic = \"AI IN AGRICULTURE\"\n",
        "num_slides = 5\n",
        "\n",
        "try:\n",
        "  output_file = generator.generate_presentation(topic, num_slides)\n",
        "except Exception as e:\n",
        "  print(f\"Error generating presentation: {e}\")"
      ],
      "metadata": {
        "colab": {
          "base_uri": "https://localhost:8080/",
          "height": 217
        },
        "id": "S3XmyTRhP2d0",
        "outputId": "3fec3379-37ac-4d6c-fb75-3d3a351a45f5"
      },
      "execution_count": null,
      "outputs": [
        {
          "output_type": "stream",
          "name": "stdout",
          "text": [
            "Creating slide 1: AI in Agriculture: Sowing the Seeds of a Smart Future\n",
            "Creating slide 2: The Global Food Challenge: Why We Need a Revolution\n",
            "Creating slide 3: Introducing Agri-AI: The Smart Farming Solution\n",
            "Creating slide 4: Application 1: Precision Farming & Crop Management\n",
            "Creating slide 5: Application 2: The Rise of the Agri-Bots\n",
            "Creating slide 6: Application 3: Farming with Foresight\n",
            "Creating slide 7: Case Study: John Deere's See & Spray™ Technology\n",
            "Creating slide 8: Hurdles to Adoption: The Road Ahead for Agri-AI\n",
            "Creating slide 9: The Future Harvest: What's Next?\n",
            "Creating slide 10: Conclusion: Cultivating a Better Tomorrow\n",
            "Presentation saved to output.pptx\n"
          ]
        }
      ]
    }
  ]
}